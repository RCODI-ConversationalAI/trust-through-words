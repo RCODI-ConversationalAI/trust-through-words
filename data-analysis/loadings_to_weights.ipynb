{
 "cells": [
  {
   "cell_type": "code",
   "execution_count": 2,
   "metadata": {},
   "outputs": [],
   "source": [
    "import numpy as np\n",
    "from src.load_data import loader\n",
    "lo = loader()\n",
    "import pandas as pd"
   ]
  },
  {
   "cell_type": "code",
   "execution_count": 3,
   "metadata": {},
   "outputs": [],
   "source": [
    "dl = list(np.load('data/loadings/dep_loadings.npy'))\n",
    "ml = list(np.load('data/loadings/mod_loadings.npy'))\n",
    "dl_u = []\n",
    "for l in dl:\n",
    "    dl_u.append(list([0 if abs(i)<0.3 else i for i in l]))\n",
    "dl_u = np.array(dl_u)\n",
    "ml_u = []\n",
    "for l in ml:\n",
    "    ml_u.append(list([0 if abs(i)<0.3 else i for i in l]))\n",
    "ml_u = np.array(ml_u)"
   ]
  },
  {
   "cell_type": "code",
   "execution_count": 4,
   "metadata": {},
   "outputs": [
    {
     "name": "stdout",
     "output_type": "stream",
     "text": [
      "[[0.         0.         0.79503661]\n",
      " [0.         0.         0.6614732 ]\n",
      " [0.         0.         0.63514259]\n",
      " [0.         0.         0.85518148]\n",
      " [0.83142334 0.         0.        ]\n",
      " [0.63486375 0.         0.        ]\n",
      " [0.86359627 0.         0.        ]\n",
      " [0.82513137 0.         0.        ]\n",
      " [0.         0.91969758 0.        ]\n",
      " [0.         0.9048804  0.        ]\n",
      " [0.         0.74961177 0.        ]]\n",
      "[[0.         0.         0.         0.494613  ]\n",
      " [0.8875511  0.         0.         0.        ]\n",
      " [0.99208919 0.         0.         0.        ]\n",
      " [0.78942875 0.         0.         0.        ]\n",
      " [0.         0.85719553 0.         0.        ]\n",
      " [0.         0.85636385 0.         0.        ]\n",
      " [0.         0.81430671 0.         0.        ]\n",
      " [0.         0.         0.3335071  0.        ]\n",
      " [0.         0.         0.69429195 0.        ]\n",
      " [0.         0.         0.84204496 0.        ]\n",
      " [0.         0.         0.         0.        ]]\n"
     ]
    }
   ],
   "source": [
    "print(dl_u)\n",
    "print(ml_u)"
   ]
  },
  {
   "cell_type": "code",
   "execution_count": 5,
   "metadata": {},
   "outputs": [],
   "source": [
    "deps, mods = lo.load_data()\n",
    "cdeps = pd.concat(list(deps.values()), axis=1)\n",
    "cmods = pd.concat(list(mods.values()), axis=1)"
   ]
  },
  {
   "cell_type": "code",
   "execution_count": 6,
   "metadata": {},
   "outputs": [
    {
     "name": "stdout",
     "output_type": "stream",
     "text": [
      "     Trustworthy  Honesty  Ability  OverallTrust  Thinking  Contemplated   \n",
      "0              6        6        6             6         1             1  \\\n",
      "1              7        7        7             7         1             1   \n",
      "2              7        7        7             7         4             3   \n",
      "3              5        7        3             5         5             5   \n",
      "4              7        6        7             6         2             2   \n",
      "..           ...      ...      ...           ...       ...           ...   \n",
      "272            7        7        7             7         1             1   \n",
      "273            6        7        5             6         2             1   \n",
      "274            5        5        4             5         3             5   \n",
      "275            7        7        5             7         5             5   \n",
      "276            4        4        4             5         4             3   \n",
      "\n",
      "     Demanding  Effort  helpfulness  usefulness  informative  \n",
      "0            1       1            7           7            7  \n",
      "1            1       3            7           7            7  \n",
      "2            1       2            7           7            7  \n",
      "3            3       1            5           6            6  \n",
      "4            2       2            7           7            7  \n",
      "..         ...     ...          ...         ...          ...  \n",
      "272          1       2            6           6            6  \n",
      "273          2       2            7           7            7  \n",
      "274          1       1            5           6            6  \n",
      "275          3       5            6           7            7  \n",
      "276          3       1            6           6            6  \n",
      "\n",
      "[277 rows x 11 columns]\n"
     ]
    }
   ],
   "source": [
    "print(cdeps)"
   ]
  },
  {
   "cell_type": "code",
   "execution_count": 12,
   "metadata": {},
   "outputs": [],
   "source": [
    "from matplotlib import pyplot as plt"
   ]
  },
  {
   "cell_type": "code",
   "execution_count": 16,
   "metadata": {},
   "outputs": [
    {
     "data": {
      "text/plain": [
       "<matplotlib.collections.PathCollection at 0x12b51b670>"
      ]
     },
     "execution_count": 16,
     "metadata": {},
     "output_type": "execute_result"
    },
    {
     "data": {
      "image/png": "[encoded data removed]",
      "text/plain": [
       "<Figure size 640x480 with 1 Axes>"
      ]
     },
     "metadata": {},
     "output_type": "display_data"
    }
   ],
   "source": [
    "plt.scatter(cdeps.index, cdeps['Trustworthy'])"
   ]
  },
  {
   "cell_type": "code",
   "execution_count": 17,
   "metadata": {},
   "outputs": [
    {
     "data": {
      "text/plain": [
       "<matplotlib.collections.PathCollection at 0x12b593700>"
      ]
     },
     "execution_count": 17,
     "metadata": {},
     "output_type": "execute_result"
    },
    {
     "data": {
      "image/png": "[encoded data removed]",
      "text/plain": [
       "<Figure size 640x480 with 1 Axes>"
      ]
     },
     "metadata": {},
     "output_type": "display_data"
    }
   ],
   "source": [
    "plt.scatter(cdeps.index, cdeps['OverallTrust'])"
   ]
  },
  {
   "cell_type": "code",
   "execution_count": 18,
   "metadata": {},
   "outputs": [
    {
     "data": {
      "text/plain": [
       "<matplotlib.collections.PathCollection at 0x12b5dd8e0>"
      ]
     },
     "execution_count": 18,
     "metadata": {},
     "output_type": "execute_result"
    },
    {
     "data": {
      "image/png": "[encoded data removed]",
      "text/plain": [
       "<Figure size 640x480 with 1 Axes>"
      ]
     },
     "metadata": {},
     "output_type": "display_data"
    }
   ],
   "source": [
    "plt.scatter(cdeps.index, cdeps['helpfulness'])"
   ]
  },
  {
   "cell_type": "code",
   "execution_count": 7,
   "metadata": {},
   "outputs": [],
   "source": [
    "deps_weights = np.dot(cdeps, dl_u)\n",
    "mods_weights = np.dot(cmods, ml_u)\n",
    "# print(mods_weights)"
   ]
  },
  {
   "cell_type": "code",
   "execution_count": 10,
   "metadata": {},
   "outputs": [
    {
     "name": "stdout",
     "output_type": "stream",
     "text": [
      "[[ 3.15501473 18.01932828 17.6810033 ]\n",
      " [ 4.80527748 18.01932828 20.62783718]\n",
      " [ 7.74414362 18.01932828 20.62783718]\n",
      " [10.74735562 14.52544095 14.78683063]\n",
      " [ 6.31002946 18.01932828 19.1111825 ]\n",
      " [ 4.81786141 14.52544095 13.13661255]\n",
      " [ 9.46504419 18.01932828 14.73416942]\n",
      " [ 9.08450894 16.1947503  18.7224094 ]\n",
      " [ 4.42474223 15.44513853 20.62783718]\n",
      " [ 7.79562057  8.64226685  4.37701309]\n",
      " [13.26121463 14.69552676 20.62783718]\n",
      " [13.26121463 18.01932828 14.09902682]\n",
      " [ 3.15501473 15.44513853 19.30489078]\n",
      " [ 9.08450894 15.44513853 11.81366614]\n",
      " [ 9.85816337 11.95125119 16.37690385]\n",
      " [ 6.11346987 18.01932828 17.64718904]\n",
      " [11.61095188 18.01932828 17.90104218]\n",
      " [ 7.9602922  18.01932828 17.6810033 ]\n",
      " [13.00688613 18.01932828 16.65899797]\n",
      " [11.59836795 12.87094877 13.21751474]\n",
      " [10.73477169 18.01932828 14.73416942]\n",
      " [ 9.46504419 15.44513853 13.24384535]\n",
      " [ 6.72245266 15.44513853 20.62783718]\n",
      " [10.73477169 18.01932828 17.6810033 ]\n",
      " [ 5.05960598 18.01932828 18.03460559]\n",
      " [12.39761836 18.01932828 17.01204645]\n",
      " [10.73477169 17.26971651 20.62783718]\n",
      " [ 3.9801461  13.62056055 17.32740101]\n",
      " [ 3.15501473 18.01932828 20.62783718]\n",
      " [15.14020989 18.01932828 18.08726681]\n",
      " [15.14020989 13.62056055 18.7224094 ]\n",
      " [14.086346   10.29675902 13.41122301]\n",
      " [ 9.46504419 18.01932828 15.02762684]\n",
      " [ 4.84374237 18.01932828 18.7224094 ]\n",
      " [12.75899274 17.26971651 17.64718904]\n",
      " [ 6.08758891 16.52010474 20.62783718]\n",
      " [ 6.94489321 18.01932828 19.77265571]\n",
      " [ 4.84374237 16.1947503  20.62783718]\n",
      " [10.72175963 15.27505272 16.37690385]\n",
      " [10.09990794 12.87094877 13.41122301]\n",
      " [11.9789032  16.1947503  14.73416942]\n",
      " [ 8.18244778 18.01932828 16.85963608]\n",
      " [17.88251645 10.43721048 15.83572039]\n",
      " [14.94994227 15.44513853 20.62783718]\n",
      " [ 9.46504419  2.57418975 12.19359904]\n",
      " [ 3.98643807 16.52010474 15.12158597]\n",
      " [10.73477169 15.44513853 11.78733553]\n",
      " [13.2486307  14.69552676 19.357552  ]\n",
      " [15.14020989 13.77582918 12.60870275]\n",
      " [ 7.81478144 18.01932828 20.62783718]\n",
      " [ 3.15501473 18.01932828 14.73416942]\n",
      " [ 4.42474223 13.62056055  9.02672628]\n",
      " [15.77507364 15.44513853 11.78733553]\n",
      " [ 7.77631655 18.01932828 20.62783718]\n",
      " [13.45148225 18.01932828 20.62783718]\n",
      " [ 5.67516571 17.26971651 18.08726681]\n",
      " [ 5.47860612 18.01932828 17.86722793]\n",
      " [ 3.9801461  18.01932828 12.19359904]\n",
      " [ 9.46504419  2.57418975  9.63553826]\n",
      " [ 7.77631655 17.26971651 10.01547116]\n",
      " [ 6.08758891 18.01932828 20.62783718]\n",
      " [ 5.44014123 14.69552676 19.77265571]\n",
      " [ 5.05960598 13.77582918  5.85985351]\n",
      " [ 6.54505394 18.01932828 19.357552  ]\n",
      " [12.62005891 10.29675902 11.78733553]\n",
      " [10.09990794 18.01932828 20.62783718]\n",
      " [14.31507852  7.39721482 10.73096213]\n",
      " [12.62005891 18.01932828 13.30399021]\n",
      " [18.93008837 18.01932828 20.62783718]\n",
      " [ 6.31002946 18.01932828 17.6810033 ]\n",
      " [13.22274974 10.29675902 11.78733553]\n",
      " [ 6.72245266 18.01932828 15.46906116]\n",
      " [ 6.31002946 18.01932828 16.37690385]\n",
      " [ 6.74833362 18.01932828 18.56251539]\n",
      " [10.73477169 15.44513853 19.03776396]\n",
      " [17.44449726 18.01932828 17.6810033 ]\n",
      " [13.25492266 13.62056055 20.62783718]\n",
      " [ 5.70733863  2.57418975  7.18279991]\n",
      " [14.31507852 17.0996307  20.62783718]\n",
      " [10.16425379 16.1947503  15.68910004]\n",
      " [13.03248211 18.01932828 19.83280057]\n",
      " [ 6.08758891 18.01932828 16.32424264]\n",
      " [14.1248109  16.35001893 11.92089894]\n",
      " [ 9.14885479 18.01932828 11.78733553]\n",
      " [ 6.31002946 18.01932828 16.41071811]\n",
      " [ 9.87117542 13.62056055 13.13661255]\n",
      " [ 4.61500985 14.69552676 14.09902682]\n",
      " [ 6.11976183 16.52010474 13.43755362]\n",
      " [ 3.9801461  15.44513853 19.357552  ]\n",
      " [ 5.05960598 18.01932828 20.62783718]\n",
      " [ 3.15501473 18.01932828 18.69607879]\n",
      " [ 5.67516571 18.01932828 13.46388423]\n",
      " [10.73477169 16.36483611 15.17424718]\n",
      " [ 6.31002946 18.01932828 20.62783718]\n",
      " [ 5.2498736  18.01932828 12.64251701]\n",
      " [10.93133128 12.87094877 11.78733553]\n",
      " [ 3.15501473 12.87094877  5.33194371]\n",
      " [ 4.84374237 18.01932828 14.09902682]\n",
      " [ 4.84374237 18.01932828 17.6810033 ]\n",
      " [ 3.15501473 16.52010474 17.01204645]\n",
      " [22.0851031  12.87094877  5.54006548]\n",
      " [ 5.2498736  15.44513853 17.64718904]\n",
      " [ 9.85816337 18.01932828 18.7224094 ]\n",
      " [15.12762596 11.79598256 12.66136397]\n",
      " [ 5.67516571 18.01932828 19.357552  ]\n",
      " [ 9.83900249 18.01932828 18.0609362 ]\n",
      " [ 6.31002946 15.44513853 19.357552  ]\n",
      " [ 6.08758891 16.35001893 15.78305917]\n",
      " [11.94015333 17.0996307  14.3999679 ]\n",
      " [12.62005891 18.01932828 20.62783718]\n",
      " [14.27661363 17.0996307  12.42247813]\n",
      " [ 6.31002946 18.01932828 19.96636398]\n",
      " [12.62005891 13.94591499 11.78733553]\n",
      " [15.58480602 12.53077716 12.66884762]\n",
      " [14.086346   18.01932828 20.62783718]\n",
      " [ 6.72245266 18.01932828 19.357552  ]\n",
      " [ 7.80219751 18.01932828 19.357552  ]\n",
      " [ 9.46504419 15.44513853 20.62783718]\n",
      " [ 6.08758891 18.01932828 17.6810033 ]\n",
      " [15.77507364 15.44513853 16.44453237]\n",
      " [ 7.57975696 18.01932828 19.357552  ]\n",
      " [ 6.08758891 16.36483611 16.65899797]\n",
      " [21.22150683 12.87094877  9.63553826]\n",
      " [10.92503931 15.44513853 17.71481756]\n",
      " [ 4.42474223 18.01932828 19.357552  ]\n",
      " [12.62005891  7.72256926 20.62783718]\n",
      " [ 5.67516571 10.29675902 11.78733553]\n",
      " [ 5.28833849 18.01932828 19.357552  ]\n",
      " [ 3.15501473 12.87094877 11.81366614]\n",
      " [11.11530693 18.01932828 11.06571746]\n",
      " [ 7.35731641 18.01932828 19.357552  ]\n",
      " [ 7.73785165 18.01932828 12.44880874]\n",
      " [ 4.84374237 18.01932828  9.54770623]\n",
      " [ 3.15501473 18.01932828 20.62783718]\n",
      " [ 4.80527748 18.01932828  8.84050165]\n",
      " [14.11851893 15.44513853 20.62783718]\n",
      " [ 3.15501473 18.01932828 10.49071974]\n",
      " [ 4.81786141 14.69552676 16.37690385]\n",
      " [10.1257889  15.44513853 12.64251701]\n",
      " [ 6.31002946 15.44513853 11.33841756]\n",
      " [11.78863557 18.01932828 20.62783718]\n",
      " [ 9.46504419 18.01932828 20.62783718]\n",
      " [ 7.54758403 18.01932828 14.83391857]\n",
      " [10.09990794 16.35001893 18.03460559]\n",
      " [12.62005891 11.96606837  9.02672628]\n",
      " [ 6.50658905 14.69552676 15.42197323]\n",
      " [ 3.9801461  15.44513853 17.01204645]\n",
      " [13.41301736 15.2898699  16.65899797]\n",
      " [ 3.15501473 15.44513853 12.19359904]\n",
      " [ 6.31002946 11.04637079 14.73416942]\n",
      " [ 6.46812415 16.17993312 14.56679175]\n",
      " [16.34559154 15.44513853  9.4274165 ]\n",
      " [12.39761836 15.44513853 20.62783718]\n",
      " [ 6.31002946 18.01932828 17.6810033 ]\n",
      " [ 9.46504419 18.01932828 18.08726681]\n",
      " [11.75017068 13.62056055 16.37690385]\n",
      " [ 6.48070809 18.01932828 15.78305917]\n",
      " [ 7.57975696 18.01932828 20.62783718]\n",
      " [17.80558666 18.01932828 12.16726843]\n",
      " [ 6.31002946 18.01932828 17.6810033 ]\n",
      " [12.65223184 18.01932828 15.3429814 ]\n",
      " [ 3.15501473 15.44513853  9.47564424]\n",
      " [ 6.55806599 11.81079974 19.96636398]\n",
      " [ 5.05960598 15.61522434 13.16349697]\n",
      " [10.73477169 15.44513853  7.04230667]\n",
      " [ 3.15501473 18.01932828 13.24384535]\n",
      " [ 3.15501473 18.01932828 20.62783718]\n",
      " [ 7.35731641 18.01932828 12.87696938]\n",
      " [ 4.42474223 15.44513853 18.08726681]\n",
      " [ 6.31002946 18.01932828 20.62783718]\n",
      " [15.3560735  14.54025813 10.67694436]\n",
      " [ 6.31002946 18.01932828 12.14093782]\n",
      " [12.62005891 12.27660564 11.78733553]\n",
      " [ 5.2498736  15.60040716 15.05395745]\n",
      " [12.62005891 13.62056055 12.58237214]\n",
      " [ 9.04604405 18.01932828 15.77557552]\n",
      " [19.15252892 18.01932828 17.6810033 ]\n",
      " [ 5.05960598 17.11444788 12.19359904]\n",
      " [17.43792032 18.01932828 20.62783718]\n",
      " [ 3.15501473 18.01932828 20.62783718]\n",
      " [ 3.15501473 18.01932828 20.62783718]\n",
      " [ 7.1414528  18.01932828 17.6810033 ]\n",
      " [ 6.08758891 18.01932828 14.73416942]\n",
      " [ 6.08758891 18.01932828 13.51654545]\n",
      " [14.31507852 13.77582918 14.09902682]\n",
      " [11.15377182 13.62056055 19.03776396]\n",
      " [ 8.44964519 15.44513853 14.73416942]\n",
      " [ 7.81478144 14.54025813  8.77287313]\n",
      " [14.53094213 16.35001893 20.62783718]\n",
      " [ 7.42166226 18.01932828 19.357552  ]\n",
      " [ 5.47860612 18.01932828 17.6810033 ]\n",
      " [13.25492266 18.01932828 20.62783718]\n",
      " [10.92503931 18.01932828 14.09902682]\n",
      " [ 3.9801461  16.35001893 17.01204645]\n",
      " [ 9.00128719 15.44513853 11.78733553]\n",
      " [ 3.15501473 18.01932828 20.62783718]\n",
      " [ 9.46504419 18.01932828 17.6810033 ]\n",
      " [ 7.35731641 18.01932828 18.7224094 ]\n",
      " [ 6.31002946 18.01932828 20.62783718]\n",
      " [11.75646265 18.01932828 19.357552  ]\n",
      " [ 9.47133615 10.29675902 11.78733553]\n",
      " [ 5.69446973 15.44513853 16.32424264]\n",
      " [10.92503931 16.1947503  19.357552  ]\n",
      " [ 4.62130182 18.01932828 18.53618478]\n",
      " [ 4.84374237 12.87094877  9.85557714]\n",
      " [ 5.44643319 18.01932828 17.6810033 ]\n",
      " [14.086346   13.79064636 20.62783718]\n",
      " [ 4.84374237 15.44513853 12.44880874]\n",
      " [12.42349932 12.87094877 16.05711582]\n",
      " [ 6.31002946 18.01932828 20.62783718]\n",
      " [22.0851031  10.29675902 19.357552  ]\n",
      " [ 6.54505394 12.87094877 17.64718904]\n",
      " [ 3.15501473 18.01932828 15.42197323]\n",
      " [ 4.84374237 18.01932828 17.6810033 ]\n",
      " [12.62005891 18.01932828 20.62783718]\n",
      " [ 7.57975696 18.01932828 17.6810033 ]\n",
      " [17.42533639 15.44513853 13.51654545]\n",
      " [ 9.68748474 18.01932828 18.31614589]\n",
      " [ 4.81786141 15.44513853 17.64718904]\n",
      " [ 6.50658905 18.01932828 19.357552  ]\n",
      " [14.11222696 11.96606837 17.01204645]\n",
      " [ 8.58886399 15.44513853 14.39248425]\n",
      " [13.29338756 15.44513853 19.357552  ]\n",
      " [ 5.64928475 18.01932828 20.62783718]\n",
      " [10.73477169 12.87094877 16.32424264]\n",
      " [ 8.4111803  18.01932828 20.62783718]\n",
      " [ 4.01861099 18.01932828 18.31614589]\n",
      " [ 6.96419723 18.01932828 17.6810033 ]\n",
      " [14.91147738 18.01932828 18.06229275]\n",
      " [ 4.84374237 18.01932828 19.1111825 ]\n",
      " [ 9.46504419 18.01932828 17.01204645]\n",
      " [11.56619503 18.01932828 17.01204645]\n",
      " [12.3913264  11.2164566   9.82176289]\n",
      " [ 4.42474223 16.36483611  7.73759413]\n",
      " [ 8.25966254 18.01932828 20.62783718]\n",
      " [ 7.73785165 18.01932828 17.6810033 ]\n",
      " [10.9635042  18.01932828 19.83280057]\n",
      " [ 8.36013147 18.01932828 19.357552  ]\n",
      " [17.04480114 15.44513853 14.25143719]\n",
      " [ 3.15501473 18.01932828 14.73416942]\n",
      " [ 4.84374237 13.77582918 13.77175514]\n",
      " [ 6.94489321 18.01932828 18.7224094 ]\n",
      " [ 7.34473248 18.01932828 17.6810033 ]\n",
      " [15.97163323 12.87094877 18.7224094 ]\n",
      " [10.73477169 15.44513853 14.73416942]\n",
      " [15.07586404 15.43032135 13.04320723]\n",
      " [14.1248109  15.44513853 12.19359904]\n",
      " [11.15377182 11.2164566  14.09902682]\n",
      " [ 6.07500498 15.0208812  17.7882361 ]\n",
      " [ 4.81786141 16.1947503  13.24384535]\n",
      " [ 6.5196011  18.01932828 17.6810033 ]\n",
      " [ 5.68145767 18.01932828 20.62783718]\n",
      " [ 5.67516571 12.44669145  9.28057942]\n",
      " [ 3.15501473 15.44513853 19.357552  ]\n",
      " [ 9.46504419 18.01932828 20.62783718]\n",
      " [ 7.80219751 18.01932828 16.81698162]\n",
      " [ 6.31002946 18.01932828 11.78733553]\n",
      " [ 3.15501473 18.01932828 20.62783718]\n",
      " [ 8.58886399 18.01932828 17.71481756]\n",
      " [ 3.15501473 18.01932828 17.6810033 ]\n",
      " [ 8.8175965  12.87094877 17.05334436]\n",
      " [ 4.42474223 15.60040716 18.7224094 ]\n",
      " [20.18051185 15.44513853 19.357552  ]\n",
      " [ 5.47860612 17.26971651 18.69607879]\n",
      " [15.77507364 13.62056055 12.64251701]\n",
      " [19.60341701 12.54559433 16.98571584]\n",
      " [19.56495212 14.52544095 18.08726681]\n",
      " [ 6.78679851 14.54025813 18.7224094 ]\n",
      " [ 6.74833362  6.64760305  5.89366777]\n",
      " [12.39761836 16.1947503  16.32424264]\n",
      " [20.61881601 14.69552676 11.80618249]\n",
      " [ 3.15501473 15.44513853 11.28575635]\n",
      " [ 3.9801461  15.44513853 20.62783718]\n",
      " [ 5.67516571 18.01932828 17.70733391]\n",
      " [ 7.35731641 14.52544095 14.09902682]\n",
      " [14.04788111 17.0996307  19.357552  ]\n",
      " [ 8.64620478 15.44513853 12.64251701]]\n"
     ]
    }
   ],
   "source": [
    "print(deps_weights)"
   ]
  },
  {
   "cell_type": "code",
   "execution_count": 8,
   "metadata": {},
   "outputs": [],
   "source": [
    "dfdeps = pd.DataFrame(deps_weights, columns=['Effort', 'Helpfulness', 'Trustworthy'])\n",
    "dfmods = pd.DataFrame(mods_weights, columns=['Anger', 'Online', 'Empathy', 'Familiarity'])\n",
    "# print(dfmods)"
   ]
  },
  {
   "cell_type": "code",
   "execution_count": 9,
   "metadata": {},
   "outputs": [],
   "source": [
    "dfdeps.to_csv('data/loadings/dfdeps.csv', index=False)\n",
    "dfmods.to_csv('data/loadings/dfmods.csv', index=False)"
   ]
  }
 ],
 "metadata": {
  "kernelspec": {
   "display_name": "Python 3",
   "language": "python",
   "name": "python3"
  },
  "language_info": {
   "codemirror_mode": {
    "name": "ipython",
    "version": 3
   },
   "file_extension": ".py",
   "mimetype": "text/x-python",
   "name": "python",
   "nbconvert_exporter": "python",
   "pygments_lexer": "ipython3",
   "version": "3.9.16"
  },
  "orig_nbformat": 4,
  "vscode": {
   "interpreter": {
    "hash": "b37f6842cfa5693682ca177646b86562e7e6680399d6aa97975ae5063d95e764"
   }
  }
 },
 "nbformat": 4,
 "nbformat_minor": 2
}
